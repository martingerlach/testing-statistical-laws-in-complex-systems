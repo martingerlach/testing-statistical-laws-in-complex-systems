{
 "cells": [
  {
   "cell_type": "code",
   "execution_count": 1,
   "metadata": {
    "collapsed": true
   },
   "outputs": [],
   "source": [
    "import sys, os\n",
    "import numpy as np\n",
    "import matplotlib.pyplot as plt\n",
    "import pandas as pd\n",
    "\n",
    "%matplotlib inline\n",
    "%load_ext autoreload\n",
    "%autoreload 2\n",
    "import matplotlib.cm as cm\n",
    "cmap = cm.tab10\n"
   ]
  },
  {
   "cell_type": "code",
   "execution_count": 2,
   "metadata": {
    "collapsed": true
   },
   "outputs": [],
   "source": [
    "## custom packages\n",
    "src_dir = os.path.join(os.pardir,'src')\n",
    "sys.path[0] = src_dir\n",
    "\n",
    "from data_io_ts import *\n",
    "from stats import xdata_to_xnx, x_autocorr_sm_ext\n",
    "from powerlaw_fit import *\n",
    "\n",
    "# import setup for figure layout (see src/modules_plotting.py to customize)\n",
    "from modules_plotting import * "
   ]
  },
  {
   "cell_type": "markdown",
   "metadata": {},
   "source": [
    "# Get a dataset:\n",
    "\n",
    "Sequence of degrees of nodes from a network; x is the rank of the degree of the node; the sequence {x i } used to compute C(τ ) was obtained applying an edge-sampling method to the complete network (see below); the network corresponds to the connections between autonomous systems of the Internet, V = 34, 761 vertices (nodes) and E = 107, 720 unique edges (in our case N is the number of half-edges and thus N = 2E)\n",
    "\n",
    "The degree distribution has been proposed to follow a power law:\n",
    "\n",
    "$p(x) \\propto x^{-\\alpha }$\n",
    "\n",
    "\n",
    "**Additional notes from the Supplementary material**\n",
    "\n",
    "Here we describe the procedure used to obtain an ordered sequence of nodes $x_i, i=1, \\ldots, 2 L$ starting from a simple graph of $V$ nodes and $L=N/2$ edges (or links).  We select nodes by choosing the edges $x_i \\leftrightarrow x_j$ of a network in a particular order (without replacement) and then adding the two nodes linked by this edge ($x_i,x_j$)  in a random order to the list of observations $x_i$.  A node with degree $k$ thus appears $k$ times in the sequence. If the node labels correspond to their ranks (in degree), $p(x)$ corresponds to the rank frequency distribution. \n",
    "\n",
    "We start from a randomly selected edge. The next edge is selected randomly from the remaining list of edges involving $x_i$ or $x_j$ (with probability $0.5$) or randomly from the complete list of remaining edges in the network (with probability $0.5$). If there are no remaining edges involving $x_i$ or $x_j$ we choose an edge randomly in the complete network. This corresponds to a combination of random sampling of edges with a random walk (using local steps) in the network. This procedure is repeated until all edges $L$ of the network are sampled, leading thus to a sequence $x_i$ for $i=1, \\ldots, 2L$.\n",
    "\n",
    "Lee et al.~[SM4] showed that random edge sampling is equivalent to node sampling (previously discussed in Ref.~[SM5]), both leading to deviations of the degree distribution from power-law. The local steps used here enhance the extent into which the measured $x_i$ deviate from an independent sample (H2), as shown in Fig.~1d of the manuscript. Correlations in the sequence $x_i$ exist even forbidding local steps because when we sample edges we sample two nodes and the selection of the two is not random, e.g., degree-degree correlation in networks. Another distinction of our approach is that we work in the rank-frequency picture  so that node $x$ with degree $k_x$ contributes with $k_x$ symbols $x$ in the sequence $x_i$ (in contrast to the analysis of the distribution $P(k)$ of nodes of degree~$k$). \n",
    "\n"
   ]
  },
  {
   "cell_type": "code",
   "execution_count": 3,
   "metadata": {
    "collapsed": true
   },
   "outputs": [],
   "source": [
    "## we load a pre-sampled network\n",
    "label = 'nw_s_01'\n",
    "p = 0.5\n",
    "dict_args = {'p':p,\n",
    "             'i_nrep':1,\n",
    "             'src_dir':src_dir,}\n",
    "\n",
    "x_data = get_xdata_ts_wrapper(label,dict_args)\n",
    "N = len(x_data)"
   ]
  },
  {
   "cell_type": "markdown",
   "metadata": {},
   "source": [
    "# Plot the distribution and the fit\n",
    "\n",
    "Note that we are plotting the cumulative distribution $F(x)$."
   ]
  },
  {
   "cell_type": "code",
   "execution_count": 4,
   "metadata": {
    "collapsed": true
   },
   "outputs": [],
   "source": [
    "## Empirical distribution\n",
    "xmin = 1\n",
    "xmax = len(np.unique(x_data))\n",
    "x,nx = xdata_to_xnx(x_data,norm=False,xmin=xmin,xmax=xmax)\n",
    "\n",
    "N = np.sum(nx)\n",
    "px = nx/N\n",
    "Fx = 1-np.cumsum(px)\n",
    "\n",
    "## Fit: powerlaw\n",
    "\n",
    "result = fit_power_disc_sign(x,nx,xmin=xmin,xmax=xmax)\n",
    "alpha = result['alpha']\n",
    "px_fit = pdf_power_disc(x,xmin,xmax,alpha)\n",
    "Fx_fit = cdf_power_disc(x,xmin,xmax,alpha)"
   ]
  },
  {
   "cell_type": "code",
   "execution_count": 5,
   "metadata": {},
   "outputs": [
    {
     "data": {
      "text/plain": [
       "Text(0.6,0.6,'$\\\\propto x^{-\\\\alpha}$')"
      ]
     },
     "execution_count": 5,
     "metadata": {},
     "output_type": "execute_result"
    },
    {
     "data": {
      "image/png": "[encoded data removed]",
      "text/plain": [
       "<matplotlib.figure.Figure at 0x7fbf9aaeb390>"
      ]
     },
     "metadata": {},
     "output_type": "display_data"
    }
   ],
   "source": [
    "fig, ax = plt.subplots(nrows=1, ncols=1)#, figsize=fig_size)\n",
    "\n",
    "## Plot the distribution\n",
    "x_ = x\n",
    "y_ = px\n",
    "\n",
    "c_ = cmap(0)\n",
    "ax.plot(x_,y_,marker='o',ms=2,lw=0,c = c_,label = 'Data')\n",
    "\n",
    "## Plot the fit\n",
    "c_ = cmap(1)\n",
    "x_ = x\n",
    "y_ = px_fit\n",
    "plt.plot(x_,y_,lw=2,c=c_, label = 'Fit')\n",
    "\n",
    "\n",
    "## Layout stuff\n",
    "ax.legend(loc='lower left')\n",
    "\n",
    "ax.set_xscale('log')\n",
    "ax.set_yscale('log')\n",
    "\n",
    "# ax.set_xlim(1,1000)\n",
    "# ax.set_ylim(10**(-5),1.2)\n",
    "\n",
    "ax.set_xlabel(r'$x$')#,labelpad=0)\n",
    "ax.set_ylabel(r'$p(x)$')\n",
    "ax.set_title('Networks: Rank of degrees')\n",
    "\n",
    "x_annot_formula = 0.6\n",
    "y_annot_formula = 0.6\n",
    "ax.annotate(r'$\\propto x^{-\\alpha}$',xy=(x_annot_formula,y_annot_formula),xycoords = 'axes fraction')#,size=8)"
   ]
  },
  {
   "cell_type": "markdown",
   "metadata": {},
   "source": [
    "# Autocorrelation function\n",
    "\n",
    "Note that we are taking the $\\log x$ to calculate the autocorrelation (this leads to a more conservative estimation of $\\tau^*)$"
   ]
  },
  {
   "cell_type": "code",
   "execution_count": 6,
   "metadata": {},
   "outputs": [
    {
     "name": "stdout",
     "output_type": "stream",
     "text": [
      "Autocorrelation time:  153\n"
     ]
    }
   ],
   "source": [
    "np.random.seed(42)\n",
    "\n",
    "nrep = 10**3\n",
    "q1,q2 = 1,99\n",
    "result = x_autocorr_sm_ext(np.log(x_data),nrep=nrep,q=[q1,q2])\n",
    "x = result['tau']\n",
    "y_mu,y_1,y_2 = result['C']\n",
    "y_mu_rand,y_1_rand,y_2_rand = result['C_rand']\n",
    "\n",
    "## here we calculate from t=0,1,...,t^* where t^* is the first point\n",
    "## where true C(t) is within the q-percentiles of the random\n",
    "\n",
    "# ind_t_star = np.where( (y_mu<=y_2_rand)&(y_mu>=y_1_rand) )[0][1]\n",
    "ind_t_star = np.where(y_1<=y_2_rand)[0][2]\n",
    "tau_star = x[ind_t_star]\n",
    "\n",
    "print('Autocorrelation time: ',tau_star)\n",
    "\n"
   ]
  },
  {
   "cell_type": "code",
   "execution_count": 7,
   "metadata": {},
   "outputs": [
    {
     "data": {
      "text/plain": [
       "Text(0.8,0.6,'$\\\\tau^*=153$')"
      ]
     },
     "execution_count": 7,
     "metadata": {},
     "output_type": "execute_result"
    },
    {
     "data": {
      "image/png": "[encoded data removed]",
      "text/plain": [
       "<matplotlib.figure.Figure at 0x7fbf8eef7dd8>"
      ]
     },
     "metadata": {},
     "output_type": "display_data"
    }
   ],
   "source": [
    "fig, ax = plt.subplots(nrows=1, ncols=1)#, figsize=fig_size)\n",
    "\n",
    "alpha_val = .5\n",
    "## Plot the empirical autocorrelation\n",
    "x_ = x\n",
    "y_ = y_mu\n",
    "z1_ = y_1\n",
    "z2_ = y_2\n",
    "c_ = cmap(0)\n",
    "ax.plot(x_,y_,c = c_,lw=lw, label = 'Data')\n",
    "ax.fill_between(x_,z1_,z2_,color=c_,alpha=alpha_val,lw=0)\n",
    "\n",
    "\n",
    "\n",
    "## Plot the randomized autocorrelation\n",
    "x_ = x\n",
    "y_ = y_mu_rand\n",
    "z1_ = y_1_rand\n",
    "z2_ = y_2_rand\n",
    "c_ = cmap(1)\n",
    "ax.plot(x_,y_,c = c_,lw=lw, label = 'Randomized')\n",
    "ax.fill_between(x_,z1_,z2_,color=c_,alpha=alpha_val,lw=0)\n",
    "\n",
    "\n",
    "ax.plot([tau_star,tau_star],[-1,1],lw=1,color='black',ls=':')\n",
    "\n",
    "\n",
    "## Layout stuff\n",
    "ax.legend(loc='upper right')\n",
    "\n",
    "ax.set_xscale('log')\n",
    "# ax.set_yscale('log')\n",
    "\n",
    "ax.set_xlabel(r'Time Lag, $\\tau$')#,labelpad=0)\n",
    "ax.set_ylabel(r'$C(\\tau)$')\n",
    "ax.set_ylim(-0.1,0.2)\n",
    "\n",
    "\n",
    "x_annot_tau = 0.8\n",
    "y_annot_tau = 0.6\n",
    "ax.annotate(r'$\\tau^*=%s$'%(int(tau_star)),xy=(x_annot_tau,y_annot_tau),xycoords = 'axes fraction')\n",
    "\n",
    "\n"
   ]
  },
  {
   "cell_type": "code",
   "execution_count": null,
   "metadata": {
    "collapsed": true
   },
   "outputs": [],
   "source": []
  },
  {
   "cell_type": "markdown",
   "metadata": {},
   "source": [
    "# Subsampling the data"
   ]
  },
  {
   "cell_type": "markdown",
   "metadata": {},
   "source": [
    "### p-value for the original dataset"
   ]
  },
  {
   "cell_type": "code",
   "execution_count": 8,
   "metadata": {},
   "outputs": [
    {
     "name": "stdout",
     "output_type": "stream",
     "text": [
      "Original dataset. N = 215440\n",
      "Empirical p-value from 100 synthetic datasets:  0.0\n"
     ]
    }
   ],
   "source": [
    "nrep_synth = 100 ## number of synthetic datasets to generate for empirical p-value\n",
    "\n",
    "x,nx = xdata_to_xnx(x_data,norm=False,xmin=xmin,xmax=xmax)\n",
    "\n",
    "result = fit_power_disc_sign(x,nx,xmin=xmin,xmax=xmax,nrep_synth=nrep_synth)\n",
    "\n",
    "alpha = result['alpha'] ## fitted parameter alpha\n",
    "pval = result['pval'] ## p-value\n",
    "KS = result['KS'] ## KS-distance\n",
    "\n",
    "print('Original dataset. N = %s'%(N))\n",
    "print('Empirical p-value from %s synthetic datasets: '%(nrep_synth), pval)"
   ]
  },
  {
   "cell_type": "markdown",
   "metadata": {},
   "source": [
    "### p-value from subsampled dataset\n",
    "\n",
    "Note that the subsampling generates different datasets each time; therefore there will be variability in the measured p-value"
   ]
  },
  {
   "cell_type": "code",
   "execution_count": 9,
   "metadata": {},
   "outputs": [
    {
     "name": "stdout",
     "output_type": "stream",
     "text": [
      "Subsampled dataset: n = 1408 (n/N ~ 0.006535947712418301)\n",
      "Empirical p-value from 100 synthetic datasets:  0.0\n"
     ]
    }
   ],
   "source": [
    "\n",
    "p_sub = 1./tau_star ## 0 ... 1 (keep nothing ... keep all); we set 1/tau_star\n",
    "N_sub = int(p_sub*N)\n",
    "nrep_synth = 100 ## number of synthetic datasets to generate for empirical p-value\n",
    "\n",
    "\n",
    "## subsample -- take N_sub samples from x_data without replacement\n",
    "x_data_sub = np.random.choice(x_data,size=N_sub,replace=False)\n",
    "x,nx = xdata_to_xnx(x_data_sub,norm=False,xmin=xmin,xmax=xmax)\n",
    "result = fit_power_disc_sign(x,nx,xmin=xmin,xmax=xmax,nrep_synth=nrep_synth)\n",
    "\n",
    "alpha = result['alpha'] ## fitted parameter alpha\n",
    "pval = result['pval'] ## p-value\n",
    "KS = result['KS'] ## KS-distance\n",
    "\n",
    "print(r'Subsampled dataset: n = %s (n/N ~ %s)'%(N_sub,p_sub)) \n",
    "print('Empirical p-value from %s synthetic datasets: '%(nrep_synth), pval)"
   ]
  },
  {
   "cell_type": "code",
   "execution_count": null,
   "metadata": {
    "collapsed": true
   },
   "outputs": [],
   "source": []
  },
  {
   "cell_type": "code",
   "execution_count": null,
   "metadata": {
    "collapsed": true
   },
   "outputs": [],
   "source": []
  }
 ],
 "metadata": {
  "kernelspec": {
   "display_name": "Python (fitting)",
   "language": "python",
   "name": "fitting"
  },
  "language_info": {
   "codemirror_mode": {
    "name": "ipython",
    "version": 3
   },
   "file_extension": ".py",
   "mimetype": "text/x-python",
   "name": "python",
   "nbconvert_exporter": "python",
   "pygments_lexer": "ipython3",
   "version": "3.6.4"
  }
 },
 "nbformat": 4,
 "nbformat_minor": 2
}
