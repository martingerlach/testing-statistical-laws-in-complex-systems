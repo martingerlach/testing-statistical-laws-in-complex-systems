{
 "cells": [
  {
   "cell_type": "code",
   "execution_count": 1,
   "metadata": {
    "collapsed": true
   },
   "outputs": [],
   "source": [
    "import sys, os\n",
    "import numpy as np\n",
    "import matplotlib.pyplot as plt\n",
    "import pandas as pd\n",
    "\n",
    "%matplotlib inline\n",
    "%load_ext autoreload\n",
    "%autoreload 2\n",
    "import matplotlib.cm as cm\n",
    "cmap = cm.tab10\n"
   ]
  },
  {
   "cell_type": "code",
   "execution_count": 2,
   "metadata": {
    "collapsed": true
   },
   "outputs": [],
   "source": [
    "## custom packages\n",
    "src_dir = os.path.join(os.pardir,'src')\n",
    "sys.path[0] = src_dir\n",
    "\n",
    "from data_io_ts import *\n"
   ]
  },
  {
   "cell_type": "markdown",
   "metadata": {},
   "source": [
    "# Get an example dataset for a correlated time-series\n",
    "\n",
    "We generate synthetic data that follows a power-law:\n",
    "\n",
    "$p(x) \\propto x^{-\\alpha }$.\n",
    "\n",
    "The data is generated using a Markov-process such that we can include correlations via a paramter $\\mu$."
   ]
  },
  {
   "cell_type": "code",
   "execution_count": 7,
   "metadata": {
    "collapsed": true
   },
   "outputs": [],
   "source": [
    "label = 'mcmc_zipf'\n",
    "k = 5 ## number of neighbors for correlated step\n",
    "Ntypes = 10**3 ## maximum number of symbols\n",
    "Ntokens = 10**5 ## number of samples\n",
    "alpha = 1.5 ## powerlaw exponent\n",
    "mu = 0.01 ## correlation parameter\n",
    "# list_mu = [0.01,1.0] ## correlated and uncorrelated case\n",
    "\n",
    "dict_args = {'Ntypes':Ntypes,\n",
    "             'Ntokens':Ntokens,\n",
    "             'alpha':alpha,\n",
    "             'mu':mu,\n",
    "             'k':k,\n",
    "             'src_dir':src_dir,\n",
    "     }\n",
    "x_data = get_xdata_ts_wrapper(label,dict_args)\n",
    "\n",
    "\n"
   ]
  },
  {
   "cell_type": "markdown",
   "metadata": {},
   "source": [
    "# Save the timeseries"
   ]
  },
  {
   "cell_type": "code",
   "execution_count": 8,
   "metadata": {
    "collapsed": true
   },
   "outputs": [],
   "source": [
    "path_save = os.path.join(os.pardir,'data','synthetic')\n",
    "fname_save = 'ts_synthetic_Ntypes%s_Ntokens%s_alpha%s_mu%s_k%s'%(Ntypes,Ntokens,alpha,mu,k)\n",
    "filename = os.path.join(path_save,fname_save)\n",
    "with open(filename,'w') as f:\n",
    "    for h in x_data:\n",
    "        f.write('%s\\n'%(h))"
   ]
  },
  {
   "cell_type": "code",
   "execution_count": null,
   "metadata": {
    "collapsed": true
   },
   "outputs": [],
   "source": []
  }
 ],
 "metadata": {
  "kernelspec": {
   "display_name": "Python (fitting)",
   "language": "python",
   "name": "fitting"
  },
  "language_info": {
   "codemirror_mode": {
    "name": "ipython",
    "version": 3
   },
   "file_extension": ".py",
   "mimetype": "text/x-python",
   "name": "python",
   "nbconvert_exporter": "python",
   "pygments_lexer": "ipython3",
   "version": "3.6.4"
  }
 },
 "nbformat": 4,
 "nbformat_minor": 2
}
